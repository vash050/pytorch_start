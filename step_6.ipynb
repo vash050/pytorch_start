{
  "nbformat": 4,
  "nbformat_minor": 0,
  "metadata": {
    "colab": {
      "provenance": [],
      "authorship_tag": "ABX9TyP2BB14AdwW8TFwgC3PfhSL",
      "include_colab_link": true
    },
    "kernelspec": {
      "name": "python3",
      "display_name": "Python 3"
    },
    "language_info": {
      "name": "python"
    }
  },
  "cells": [
    {
      "cell_type": "markdown",
      "metadata": {
        "id": "view-in-github",
        "colab_type": "text"
      },
      "source": [
        "<a href=\"https://colab.research.google.com/github/vash050/pytorch_start/blob/main/step_6.ipynb\" target=\"_parent\"><img src=\"https://colab.research.google.com/assets/colab-badge.svg\" alt=\"Open In Colab\"/></a>"
      ]
    },
    {
      "cell_type": "code",
      "execution_count": 1,
      "metadata": {
        "id": "qVThkNUf3R0i"
      },
      "outputs": [],
      "source": [
        "import torch.nn as nn"
      ]
    },
    {
      "cell_type": "code",
      "source": [
        "import numpy as np\n"
      ],
      "metadata": {
        "id": "DgrTgbPUwIfN"
      },
      "execution_count": 2,
      "outputs": []
    },
    {
      "cell_type": "code",
      "source": [
        "inputs = np.array([[73,67,43],\n",
        "                   [91,88,64],\n",
        "                   [87,134,58],\n",
        "                   [102,43,37],\n",
        "                   [69,96,70],\n",
        "                   [74,66,43],\n",
        "                   [91,87,65],\n",
        "                   [88,134,59],\n",
        "                   [101,44,37],\n",
        "                   [68,96,71],\n",
        "                   [73,66,44],\n",
        "                   [92,87,64],\n",
        "                   [87,135,57],\n",
        "                   [103,43,36],\n",
        "                   [68,97,70]],\n",
        "                  dtype='float32')"
      ],
      "metadata": {
        "id": "B94_WuQ_v3Aa"
      },
      "execution_count": 3,
      "outputs": []
    },
    {
      "cell_type": "code",
      "source": [
        "targets = np.array([[56,70],\n",
        "                   [81,101],\n",
        "                   [119,133],\n",
        "                   [22,37],\n",
        "                   [103,119],\n",
        "                   [57,69],\n",
        "                   [80,102],\n",
        "                   [118,134],\n",
        "                   [21,38],\n",
        "                   [104,118],\n",
        "                   [57,69],\n",
        "                   [82,100],\n",
        "                   [118,134],\n",
        "                   [20,38],\n",
        "                   [102,120]],\n",
        "                  dtype='float32'\n",
        "                  )"
      ],
      "metadata": {
        "id": "Obr-K8FlxiIV"
      },
      "execution_count": 6,
      "outputs": []
    },
    {
      "cell_type": "code",
      "source": [
        "inputs.shape"
      ],
      "metadata": {
        "colab": {
          "base_uri": "https://localhost:8080/"
        },
        "id": "2j6bEuAXymXH",
        "outputId": "9c3f2079-ac77-489d-96e5-2d38387633c2"
      },
      "execution_count": 5,
      "outputs": [
        {
          "output_type": "execute_result",
          "data": {
            "text/plain": [
              "(15, 3)"
            ]
          },
          "metadata": {},
          "execution_count": 5
        }
      ]
    },
    {
      "cell_type": "code",
      "source": [
        "targets.shape"
      ],
      "metadata": {
        "colab": {
          "base_uri": "https://localhost:8080/"
        },
        "id": "ejElC-rAyre-",
        "outputId": "bce37729-0674-4dc2-95c3-2893e187fb2b"
      },
      "execution_count": 7,
      "outputs": [
        {
          "output_type": "execute_result",
          "data": {
            "text/plain": [
              "(15, 2)"
            ]
          },
          "metadata": {},
          "execution_count": 7
        }
      ]
    },
    {
      "cell_type": "code",
      "source": [
        "import torch"
      ],
      "metadata": {
        "id": "TlaYCmxQy-KU"
      },
      "execution_count": 8,
      "outputs": []
    },
    {
      "cell_type": "code",
      "source": [
        "inputs = torch.from_numpy(inputs)\n",
        "targets = torch.from_numpy(targets)"
      ],
      "metadata": {
        "id": "PEntlW3NyxHK"
      },
      "execution_count": 9,
      "outputs": []
    },
    {
      "cell_type": "code",
      "source": [
        "inputs"
      ],
      "metadata": {
        "colab": {
          "base_uri": "https://localhost:8080/"
        },
        "id": "fUOuKXXVzJ4Z",
        "outputId": "ac39ea27-2c79-4bc5-a54d-075ee5ef34ef"
      },
      "execution_count": 10,
      "outputs": [
        {
          "output_type": "execute_result",
          "data": {
            "text/plain": [
              "tensor([[ 73.,  67.,  43.],\n",
              "        [ 91.,  88.,  64.],\n",
              "        [ 87., 134.,  58.],\n",
              "        [102.,  43.,  37.],\n",
              "        [ 69.,  96.,  70.],\n",
              "        [ 74.,  66.,  43.],\n",
              "        [ 91.,  87.,  65.],\n",
              "        [ 88., 134.,  59.],\n",
              "        [101.,  44.,  37.],\n",
              "        [ 68.,  96.,  71.],\n",
              "        [ 73.,  66.,  44.],\n",
              "        [ 92.,  87.,  64.],\n",
              "        [ 87., 135.,  57.],\n",
              "        [103.,  43.,  36.],\n",
              "        [ 68.,  97.,  70.]])"
            ]
          },
          "metadata": {},
          "execution_count": 10
        }
      ]
    },
    {
      "cell_type": "code",
      "source": [
        "from torch.utils.data import TensorDataset"
      ],
      "metadata": {
        "id": "p1Vl8I7szPLk"
      },
      "execution_count": 11,
      "outputs": []
    },
    {
      "cell_type": "code",
      "source": [
        "train_ds = TensorDataset(inputs, targets)\n",
        "train_ds[0:3]"
      ],
      "metadata": {
        "colab": {
          "base_uri": "https://localhost:8080/"
        },
        "id": "swjUUGBLzeh2",
        "outputId": "398508c7-b2c8-429c-dc08-e8009b40b319"
      },
      "execution_count": 12,
      "outputs": [
        {
          "output_type": "execute_result",
          "data": {
            "text/plain": [
              "(tensor([[ 73.,  67.,  43.],\n",
              "         [ 91.,  88.,  64.],\n",
              "         [ 87., 134.,  58.]]),\n",
              " tensor([[ 56.,  70.],\n",
              "         [ 81., 101.],\n",
              "         [119., 133.]]))"
            ]
          },
          "metadata": {},
          "execution_count": 12
        }
      ]
    },
    {
      "cell_type": "code",
      "source": [
        "from torch.utils.data import DataLoader"
      ],
      "metadata": {
        "id": "uHUecSOp0Gvm"
      },
      "execution_count": 13,
      "outputs": []
    },
    {
      "cell_type": "code",
      "source": [
        "batch_size = 5\n",
        "train_dl = DataLoader(train_ds, batch_size, shuffle=True)"
      ],
      "metadata": {
        "id": "zAb-T6xc0UGg"
      },
      "execution_count": 14,
      "outputs": []
    },
    {
      "cell_type": "code",
      "source": [
        "for xb, yb in train_dl:\n",
        "  print(xb)\n",
        "  print(yb)\n",
        "  break"
      ],
      "metadata": {
        "colab": {
          "base_uri": "https://localhost:8080/"
        },
        "id": "ZtJqp1GU0ph-",
        "outputId": "4bfa8926-6c56-4346-b3b0-5cfe82e25e6b"
      },
      "execution_count": 17,
      "outputs": [
        {
          "output_type": "stream",
          "name": "stdout",
          "text": [
            "tensor([[103.,  43.,  36.],\n",
            "        [ 68.,  97.,  70.],\n",
            "        [ 73.,  67.,  43.],\n",
            "        [ 68.,  96.,  71.],\n",
            "        [ 74.,  66.,  43.]])\n",
            "tensor([[ 20.,  38.],\n",
            "        [102., 120.],\n",
            "        [ 56.,  70.],\n",
            "        [104., 118.],\n",
            "        [ 57.,  69.]])\n"
          ]
        }
      ]
    },
    {
      "cell_type": "code",
      "source": [
        "model = nn.Linear(3,2)\n",
        "print(model.weight)\n",
        "print(model.bias)"
      ],
      "metadata": {
        "colab": {
          "base_uri": "https://localhost:8080/"
        },
        "id": "z695wO0e1G0V",
        "outputId": "bdb32c29-751a-439e-ef12-da4599cf1222"
      },
      "execution_count": 21,
      "outputs": [
        {
          "output_type": "stream",
          "name": "stdout",
          "text": [
            "Parameter containing:\n",
            "tensor([[ 0.4668, -0.4472,  0.0783],\n",
            "        [ 0.2683, -0.0843,  0.0163]], requires_grad=True)\n",
            "Parameter containing:\n",
            "tensor([0.3368, 0.2314], requires_grad=True)\n"
          ]
        }
      ]
    },
    {
      "cell_type": "code",
      "source": [
        "list(model.parameters())"
      ],
      "metadata": {
        "colab": {
          "base_uri": "https://localhost:8080/"
        },
        "id": "9tqgbI5y12aE",
        "outputId": "337834e3-a4a1-421d-8eb9-18bc528c52d3"
      },
      "execution_count": 22,
      "outputs": [
        {
          "output_type": "execute_result",
          "data": {
            "text/plain": [
              "[Parameter containing:\n",
              " tensor([[ 0.4668, -0.4472,  0.0783],\n",
              "         [ 0.2683, -0.0843,  0.0163]], requires_grad=True),\n",
              " Parameter containing:\n",
              " tensor([0.3368, 0.2314], requires_grad=True)]"
            ]
          },
          "metadata": {},
          "execution_count": 22
        }
      ]
    },
    {
      "cell_type": "code",
      "source": [
        "preds = model(inputs)\n",
        "preds"
      ],
      "metadata": {
        "colab": {
          "base_uri": "https://localhost:8080/"
        },
        "id": "ZIEBG4CQ2wMb",
        "outputId": "64f4a20e-0133-46b2-ee83-d3c4cfc55856"
      },
      "execution_count": 25,
      "outputs": [
        {
          "output_type": "execute_result",
          "data": {
            "text/plain": [
              "tensor([[  7.8189,  14.8647],\n",
              "        [  8.4749,  18.2646],\n",
              "        [-14.4328,  13.2141],\n",
              "        [ 31.6188,  24.5709],\n",
              "        [ -4.9024,  11.7857],\n",
              "        [  8.7329,  15.2173],\n",
              "        [  9.0004,  18.3652],\n",
              "        [-13.8877,  13.4986],\n",
              "        [ 30.7048,  24.2183],\n",
              "        [ -5.2909,  11.5337],\n",
              "        [  8.3444,  14.9654],\n",
              "        [  9.3888,  18.6172],\n",
              "        [-14.9583,  13.1135],\n",
              "        [ 32.0073,  24.8229],\n",
              "        [ -5.8164,  11.4331]], grad_fn=<AddmmBackward0>)"
            ]
          },
          "metadata": {},
          "execution_count": 25
        }
      ]
    },
    {
      "cell_type": "code",
      "source": [
        "import torch.nn.functional as F"
      ],
      "metadata": {
        "id": "YQlel3Ws3NYu"
      },
      "execution_count": 26,
      "outputs": []
    },
    {
      "cell_type": "code",
      "source": [
        "loss_fn = F.mse_loss"
      ],
      "metadata": {
        "id": "_KroZLXh3Tii"
      },
      "execution_count": 27,
      "outputs": []
    },
    {
      "cell_type": "code",
      "source": [
        "loss = loss_fn(model(inputs), targets)\n",
        "print(loss)"
      ],
      "metadata": {
        "colab": {
          "base_uri": "https://localhost:8080/"
        },
        "id": "gJqN7zI43bce",
        "outputId": "4c3a79cd-6834-45f1-842f-7bab0eecde26"
      },
      "execution_count": 28,
      "outputs": [
        {
          "output_type": "stream",
          "name": "stdout",
          "text": [
            "tensor(7298.1323, grad_fn=<MseLossBackward0>)\n"
          ]
        }
      ]
    },
    {
      "cell_type": "code",
      "source": [
        "opt = torch.optim.SGD(model.parameters(), lr=1e-5)"
      ],
      "metadata": {
        "id": "lKq9Wged35GR"
      },
      "execution_count": 29,
      "outputs": []
    },
    {
      "cell_type": "code",
      "source": [
        "def fit(num_epochs, model, loss_fn, opt, train_dl):\n",
        "  for epoch in range(num_epochs):\n",
        "    for xb, yb, in train_dl:\n",
        "      pred = model(xb)\n",
        "      loss = loss_fn(pred, yb)\n",
        "      loss.backward()\n",
        "      opt.step()\n",
        "      opt.zero_grad()\n",
        "    if(epoch+1) % 10 == 0:\n",
        "      print('Epoch [{}/{}], Loss:{:4f}'.format(epoch+1, num_epochs, loss.item()))"
      ],
      "metadata": {
        "id": "63dq94Id4HPK"
      },
      "execution_count": 30,
      "outputs": []
    },
    {
      "cell_type": "code",
      "source": [
        "fit(100, model, loss_fn, opt, train_dl)"
      ],
      "metadata": {
        "colab": {
          "base_uri": "https://localhost:8080/"
        },
        "id": "NCZq0faz6Ysk",
        "outputId": "5489f07e-fc4d-4ad4-d936-bcafb508571e"
      },
      "execution_count": 31,
      "outputs": [
        {
          "output_type": "stream",
          "name": "stdout",
          "text": [
            "Epoch [10/100], Loss:1934.578857\n",
            "Epoch [20/100], Loss:202.300858\n",
            "Epoch [30/100], Loss:179.702225\n",
            "Epoch [40/100], Loss:432.068848\n",
            "Epoch [50/100], Loss:180.303070\n",
            "Epoch [60/100], Loss:92.928787\n",
            "Epoch [70/100], Loss:60.468525\n",
            "Epoch [80/100], Loss:31.175318\n",
            "Epoch [90/100], Loss:79.484528\n",
            "Epoch [100/100], Loss:16.616610\n"
          ]
        }
      ]
    },
    {
      "cell_type": "code",
      "source": [
        "preds = model(inputs)\n",
        "preds"
      ],
      "metadata": {
        "colab": {
          "base_uri": "https://localhost:8080/"
        },
        "id": "i1vYtscr6mv_",
        "outputId": "cba95274-5db2-408f-f85b-5729b18f9128"
      },
      "execution_count": 32,
      "outputs": [
        {
          "output_type": "execute_result",
          "data": {
            "text/plain": [
              "tensor([[ 59.0411,  72.1650],\n",
              "        [ 82.0796,  98.6720],\n",
              "        [115.5046, 135.6064],\n",
              "        [ 31.8876,  46.3874],\n",
              "        [ 95.4923, 110.1594],\n",
              "        [ 58.0728,  71.2263],\n",
              "        [ 81.7962,  98.2883],\n",
              "        [115.8002, 135.9994],\n",
              "        [ 32.8558,  47.3261],\n",
              "        [ 96.1771, 110.7143],\n",
              "        [ 58.7577,  71.7812],\n",
              "        [ 81.1113,  97.7333],\n",
              "        [115.7880, 135.9902],\n",
              "        [ 31.2027,  45.8324],\n",
              "        [ 96.4606, 111.0981]], grad_fn=<AddmmBackward0>)"
            ]
          },
          "metadata": {},
          "execution_count": 32
        }
      ]
    },
    {
      "cell_type": "code",
      "source": [
        "targets"
      ],
      "metadata": {
        "colab": {
          "base_uri": "https://localhost:8080/"
        },
        "id": "t8wRqVMq61B2",
        "outputId": "b31920d5-d42b-4599-cb22-26224229dcbf"
      },
      "execution_count": 33,
      "outputs": [
        {
          "output_type": "execute_result",
          "data": {
            "text/plain": [
              "tensor([[ 56.,  70.],\n",
              "        [ 81., 101.],\n",
              "        [119., 133.],\n",
              "        [ 22.,  37.],\n",
              "        [103., 119.],\n",
              "        [ 57.,  69.],\n",
              "        [ 80., 102.],\n",
              "        [118., 134.],\n",
              "        [ 21.,  38.],\n",
              "        [104., 118.],\n",
              "        [ 57.,  69.],\n",
              "        [ 82., 100.],\n",
              "        [118., 134.],\n",
              "        [ 20.,  38.],\n",
              "        [102., 120.]])"
            ]
          },
          "metadata": {},
          "execution_count": 33
        }
      ]
    },
    {
      "cell_type": "code",
      "source": [
        "model(torch.tensor([[75,63,44.]]))"
      ],
      "metadata": {
        "colab": {
          "base_uri": "https://localhost:8080/"
        },
        "id": "UykUe-w17cUp",
        "outputId": "114b4a03-9fc9-4713-cdd8-6a9d2138223c"
      },
      "execution_count": 38,
      "outputs": [
        {
          "output_type": "execute_result",
          "data": {
            "text/plain": [
              "tensor([[56.0475, 69.0461]], grad_fn=<AddmmBackward0>)"
            ]
          },
          "metadata": {},
          "execution_count": 38
        }
      ]
    }
  ]
}